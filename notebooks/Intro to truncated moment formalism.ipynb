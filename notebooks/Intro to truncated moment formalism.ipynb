{
 "cells": [
  {
   "cell_type": "markdown",
   "id": "7f8d94df-b164-4d73-9d1e-7cd4b5d4a83c",
   "metadata": {},
   "source": [
    "# Reference\n",
    "Shibata, M., Kiuchi, K., Sekiguchi, Y., & Suwa, Y. (2011). *Truncated Moment Formalism for Radiation Hydrodynamics in Numerical Relativity*. Progress of Theoretical Physics, 125(6), 1255–1287. https://doi.org/10.1143/PTP.125.1255\n"
   ]
  },
  {
   "cell_type": "markdown",
   "id": "73977664",
   "metadata": {},
   "source": [
    "# The Distribution Function"
   ]
  },
  {
   "cell_type": "markdown",
   "id": "85b50dfe",
   "metadata": {},
   "source": [
    "## 1. The invariant distribution function and phase-space measure\n",
    "\n",
    "- **Distribution function** $f(x^\\mu,p^\\nu)$: the scalar field on **on-shell** phase space telling you the number of quanta per phase-space volume element. For massless radiation (photons, neutrinos in the massless limit), $p^\\alpha p_\\alpha = 0$.\n",
    "\n",
    "- **Invariant phase-space measure** for massless particles:\n",
    "$$\n",
    "dP \\equiv \\frac{d^3p}{(2\\pi)^3\\,p^0} \\,,\n",
    "\\qquad p^0 = \\sqrt{\\gamma^{ij}p_i p_j}/\\alpha \\ \\text{ in 3+1}.\n",
    "$$\n",
    "The factor $1/p^0$ ensures **invariance** under coordinate transformations, so that integrals like $\\int f\\,(\\cdots)\\, dP$ are geometric scalars/tensors.\n"
   ]
  },
  {
   "cell_type": "markdown",
   "id": "efb1975f",
   "metadata": {},
   "source": [
    "### Liouville equation and Boltzmann equation \n",
    "\n",
    "- **Liouville (collisionless) equation:** the distribution is constant along geodesic flow in phase space:\n",
    "$$\n",
    "p^\\alpha \\frac{\\partial f}{\\partial x^\\alpha} \n",
    "- \\Gamma^\\alpha_{\\ \\beta\\gamma}\\,p^\\beta p^\\gamma \\frac{\\partial f}{\\partial p^\\alpha} = 0.\n",
    "$$\n",
    "\n",
    "- **Boltzmann equation (with collisions):**\n",
    "$$\n",
    "p^\\alpha \\frac{\\partial f}{\\partial x^\\alpha} \n",
    "- \\Gamma^\\alpha_{\\ \\beta\\gamma}\\,p^\\beta p^\\gamma \\frac{\\partial f}{\\partial p^\\alpha} \n",
    "= \\mathcal{C}[f],\n",
    "$$\n",
    "\n",
    "- $p^\\alpha \\,\\partial f/\\partial x^\\alpha$ — spacetime advection of the distribution: how $f$ changes as particles move along their trajectories.\n",
    "- $\\Gamma^\\alpha_{\\ \\beta\\gamma}\\,p^\\beta p^\\gamma \\,\\partial f/\\partial p^\\alpha$ — momentum-space advection by geometry: gravity/curvature causing redshift and lensing of momenta.\n",
    "- $=0$ (Liouville) — collisionless case: $f$ is conserved along phase-space geodesics.\n",
    "- $=\\mathcal{C}[f]$ (Boltzmann) — collisions/emission/absorption/scattering act as sources/sinks and angular/energy redistribution for $f$. Microphysics lives here; it is most naturally modeled in the **fluid rest frame**.\n"
   ]
  },
  {
   "cell_type": "markdown",
   "id": "c2429b39",
   "metadata": {},
   "source": [
    "## 2. From $f$ to physical observables\n",
    "\n",
    "Most macroscopic radiation quantities are **moments of $f$** with weights built from the momentum:\n",
    "- **Number 4-current:**\n",
    "$$\n",
    "N^\\alpha = \\int p^\\alpha f\\, dP.\n",
    "$$\n",
    "- **Stress–energy tensor:**\n",
    "$$\n",
    "T^{\\alpha\\beta}_{\\rm rad} = \\int p^\\alpha p^\\beta f\\, dP.\n",
    "$$\n",
    "\n",
    "Here, $p^\\alpha$ and $p^\\alpha p^\\beta$ are **moment weights** for converting microscopic $f$ into macroscopic currents and stresses.\n",
    "\n",
    "Projecting $T^{\\alpha\\beta}_{\\rm rad}$ onto an observer’s 4-velocity $v^\\alpha$ yields the observer’s energy density, flux, and pressure tensor. Choosing **fluid** $u^\\alpha$ or **Eulerian** $n^\\alpha$ gives the fluid-frame or lab-frame moments used later.\n"
   ]
  },
  {
   "cell_type": "markdown",
   "id": "774c1a04",
   "metadata": {},
   "source": [
    "### Specific intensity\n",
    "\n",
    "- **Specific intensity** $I_\\nu$ (energy per area–time–frequency–solid angle) is related to $f$ by\n",
    "$$\n",
    "I_\\nu = \\frac{h\\nu^3}{(2\\pi)^3}\\, f.\n",
    "$$\n",
    "Thus\n",
    "$$\n",
    "J(\\nu) = \\nu^3\\!\\int f\\, d\\Omega \\ \\propto \\ \\int I_\\nu\\, d\\Omega \\,,\n",
    "$$\n",
    "so the fluid-frame energy density per $d\\nu$ is the **angle-integrated specific intensity** measured in the fluid frame.\n"
   ]
  },
  {
   "cell_type": "markdown",
   "id": "fc42ea47",
   "metadata": {},
   "source": [
    "## 3. Angular compression: \n",
    "\n",
    "The angular dependence of $f$ contains **infinitely many** degrees of freedom. We **compress** this by integrating over solid angle with a basis of angular tensors built from the unit direction $\\ell^\\alpha$ orthogonal to $u^\\alpha$:\n",
    "\n",
    "- Zeroth moment (scalar): captures **total energy** per frequency.\n",
    "- First moment (vector): captures **net direction** of propagation.\n",
    "- Second moment (tensor): captures **spread/anisotropy** (pressure).\n",
    "\n",
    "Formally, for the fluid frame at fixed frequency $\\nu$,\n",
    "$$\n",
    "\\begin{aligned}\n",
    "J(\\nu) &= \\nu^3 \\int f\\, d\\Omega,\\\\\n",
    "H^\\alpha(\\nu) &= \\nu^3 \\int \\ell^\\alpha f\\, d\\Omega,\\\\\n",
    "L^{\\alpha\\beta}(\\nu) &= \\nu^3 \\int \\ell^\\alpha \\ell^\\beta f\\, d\\Omega, \\ \\text{etc.}\n",
    "\\end{aligned}\n",
    "$$\n",
    "\n",
    "These are **angular moments** of $f$; integrating further over $\\nu$ yields **gray** (frequency-integrated) moments.\n"
   ]
  },
  {
   "cell_type": "markdown",
   "id": "d07f6414",
   "metadata": {
    "jp-MarkdownHeadingCollapsed": true
   },
   "source": [
    "### Connection to Eddington factors and closures\n",
    "\n",
    "Because we keep only a **finite** subset of moments (e.g., $J$ and $H^\\alpha$), we must express higher ones (e.g., $L^{\\alpha\\beta}$) in terms of the lower ones. This is the **closure problem**. The ratio of second to zeroth moment defines an **Eddington tensor/factor**—a measure of **angular width**. In M1-type closures, this factor is tied to the **flux factor**\n",
    "$$\n",
    "f \\equiv \\frac{\\sqrt{H_\\alpha H^\\alpha}}{J} \\quad \\text{ or } \\quad \\frac{|F|}{E} \\ \\text{(lab)},\n",
    "$$\n",
    "so that\n",
    "- $f\\!\\to\\!0$ $\\Rightarrow$ **nearly isotropic** ($L^{\\alpha\\beta}\\!\\approx\\!\\tfrac13 J h^{\\alpha\\beta}$),\n",
    "- $f\\!\\to\\!1$ $\\Rightarrow$ **beam-like** ($L^{\\alpha\\beta}\\!\\approx\\!J\\,\\hat{\\ell}^\\alpha \\hat{\\ell}^\\beta$).\n"
   ]
  },
  {
   "cell_type": "markdown",
   "id": "03714c05",
   "metadata": {},
   "source": [
    "<!--\n",
    "\n",
    "## 4. Deriving the moment hierarchy from Boltzmann\n",
    "\n",
    "Multiply the Boltzmann equation by $1$, $p^\\alpha$, $p^\\alpha p^\\beta$, … and integrate over $dP$:\n",
    "- With weight $p^\\alpha$: you obtain **number conservation** with source terms.\n",
    "- With weight $p^\\alpha p^\\beta$: you obtain **energy–momentum balance** for radiation.\n",
    "\n",
    "Project these onto $u^\\alpha$ (fluid frame) and take angular decompositions to isolate equations for $J$, $H^\\alpha$, $L^{\\alpha\\beta}$, etc. This yields the **covariant moment equations** shown later, including the **frequency-coupling** pieces from the momentum derivatives (they become $\\partial_\\nu(\\cdots)$ terms after switching to the fluid-frame frequency variable).\n",
    "\n",
    "-->"
   ]
  },
  {
   "cell_type": "markdown",
   "id": "c428d64b",
   "metadata": {},
   "source": [
    "<!--\n",
    "\n",
    "### Why the frequency derivative appears\n",
    "\n",
    "Switching from “coordinate momentum” to **fluid-frame frequency** $\\nu$ makes the momentum derivative term in Boltzmann (the force term with Christoffels) show up as **advection in frequency space**:\n",
    "$$\n",
    "-\\partial_\\nu\\!\\Big[\\nu\\,M^{A_k\\beta\\gamma}_{(\\nu)} \\nabla_\\gamma u_\\beta\\Big].\n",
    "$$\n",
    "Physically: **Doppler** and **gravitational redshift** shift quanta between bins. This is essential for spectra to evolve correctly.\n",
    "-->"
   ]
  },
  {
   "cell_type": "markdown",
   "id": "06a86244",
   "metadata": {},
   "source": [
    "## 4. Approximations behind truncation\n",
    "\n",
    "- **Near-equilibrium (thick) expansion:** Angular deviations from isotropy are small (diffusion limit).\n",
    "- **Free-streaming (thin) limit:** Angular distribution collapses toward a delta in direction; higher moments become simple functions of the lower ones.\n",
    "- **M1 interpolation:** An **algebraic interpolation** between these limits that respects **causality** (signal speeds $\\le c$) and monotonicity. It is not exact for crossing beams but is robust and conservative.\n",
    "\n",
    "**Takeaway:** Truncation is not arbitrary; it is tied to **asymptotic limits** of the Boltzmann equation and provides a **controlled model** across regimes commonly encountered in relativistic flows.\n"
   ]
  },
  {
   "cell_type": "markdown",
   "id": "8abdb551",
   "metadata": {},
   "source": [
    "# Truncated Moment Formalism \n",
    "\n"
   ]
  },
  {
   "cell_type": "markdown",
   "id": "dd497f07",
   "metadata": {},
   "source": [
    "## 0. How to read these equations\n",
    "Think of the radiation field as a **fluid of quanta** (photons/neutrinos). The moment hierarchy summarizes this fluid by:\n",
    "- a **scalar** (energy density),\n",
    "- a **vector** (net energy flow),\n",
    "- a **tensor** (how it pushes anisotropically),\n",
    "- and so on.\n",
    "\n",
    "Every term in the PDEs either\n",
    "1) **moves** energy/momentum around in space (transport),\n",
    "2) **moves** it in **frequency** (redshift/Doppler),\n",
    "3) **exchanges** it with matter (sources),\n",
    "4) or **lets spacetime geometry do work** on it (gravity/curvature terms).\n",
    "We’ll tag each term with one of these.\n"
   ]
  },
  {
   "cell_type": "markdown",
   "id": "98de2173",
   "metadata": {},
   "source": [
    "## 1. Kinematics:\n",
    "\n",
    "**Equation:**  \n",
    "$$\n",
    "p^\\alpha = \\nu\\,(u^\\alpha + \\ell^\\alpha), \\qquad u_\\alpha \\ell^\\alpha = 0, \\quad \\ell_\\alpha \\ell^\\alpha = 1.\n",
    "$$\n",
    "\n",
    "**What it means:**\n",
    "- In the **fluid rest frame**, a quantum has **energy** $\\nu$ and a **direction** $\\ell^\\alpha$ that is purely spatial in that frame.\n",
    "- The **four-momentum** is just \"energy times (time-direction + space-direction).\"\n",
    "\n",
    "**Why we care:** this decomposition separates **magnitude** (how much) from **direction** (where), letting angular integrals distill the distribution function into a few moments.\n",
    "\n",
    "**Key projectors:**  \n",
    "- Fluid-frame spatial projector: $h^{\\alpha\\beta} = g^{\\alpha\\beta} + u^\\alpha u^\\beta$ filters out time components in the fluid frame.\n",
    "- Eulerian (lab) spatial projector: $\\gamma^{\\alpha}{}_{\\beta} = \\delta^{\\alpha}{}_{\\beta} + n^\\alpha n_\\beta$ filters out time components in the lab frame.\n"
   ]
  },
  {
   "cell_type": "markdown",
   "id": "fe854e46",
   "metadata": {},
   "source": [
    "## 2. Moments from angular integrals (at fixed $\\nu$)\n",
    "\n",
    "**Definitions:**  \n",
    "$$\n",
    "\\begin{aligned}\n",
    "J(\\nu) &= \\nu^3 \\int f\\, d\\Omega \\quad \\text{(energy density)},\\\\\n",
    "H^\\alpha(\\nu) &= \\nu^3 \\int \\ell^\\alpha f\\, d\\Omega \\quad \\text{(flux)},\\\\\n",
    "L^{\\alpha\\beta}(\\nu) &= \\nu^3 \\int \\ell^\\alpha \\ell^\\beta f\\, d\\Omega \\quad \\text{(pressure tensor)},\\\\\n",
    "N^{\\alpha\\beta\\gamma}(\\nu) &= \\nu^3 \\int \\ell^\\alpha \\ell^\\beta \\ell^\\gamma f\\, d\\Omega \\quad \\text{(third moment)}.\n",
    "\\end{aligned}\n",
    "$$\n",
    "\n",
    "**Interpretation:**  \n",
    "- $J$ counts *how much radiation energy* there is per volume at frequency $\\nu$, regardless of direction.  \n",
    "- $H^\\alpha$ says *which way* the energy prefers to go (a compass needle for radiation).  \n",
    "- $L^{\\alpha\\beta}$ says how hard radiation **pushes** along/against directions; it measures **anisotropy** of pressure.  \n",
    "- $N^{\\alpha\\beta\\gamma}$ tracks **skewness** in directionality.\n",
    "\n",
    "**Thick vs thin mental images:**  \n",
    "- **Thick**: random-walking light in fog—$L \\approx \\tfrac13 J h$ and $H$ is small (isotropy wins).  \n",
    "- **Thin**: laser-like beam—$H$ almost as large as $J$ and $L$ collapses onto the beam direction.\n"
   ]
  },
  {
   "cell_type": "markdown",
   "id": "3468eedb",
   "metadata": {},
   "source": [
    "## 3. Rank-2 decomposition (fluid frame)\n",
    "\n",
    "**Thorne’s unprojected moments:**  \n",
    "$$\n",
    "M^{\\alpha_1\\cdots\\alpha_k}_{(\\nu)}(x)\n",
    "=\\int f(p'^{\\mu},x)\\,\\delta(\\nu-\\nu')\\,(\\nu')^{\\,k-2}\\,\n",
    "p'^{\\alpha_1}\\cdots p'^{\\alpha_k}\\; dP_{p'}\\,.\n",
    "$$\n",
    "\n",
    "Here:\n",
    "- $M^{\\alpha_1\\cdots\\alpha_k}_{(\\nu)}(x)$ — $k$-th radiation moment at $x$ for fixed fluid-frame frequency $\\nu$ (a rank-$k$ tensor summary of the field).\n",
    "- $f(p'^\\mu,x)$ — distribution function: occupancy of phase-space cells at $(x,p')$.\n",
    "- $\\delta(\\nu-\\nu')$ — selects particles with comoving frequency exactly $\\nu$.\n",
    "- $\\nu'=-u_\\mu p'^\\mu$ — fluid-frame frequency (energy) of a particle with momentum $p'$.\n",
    "- $(\\nu')^{k-2}$ — weight ensuring correct scaling of the $k$-th moment.\n",
    "- $p'^{\\alpha_1}\\cdots p'^{\\alpha_k}$ — momentum factors that give the moment its rank and tensor structure.\n",
    "- $dP_{p'}$ — invariant on-shell momentum measure (integration over the mass shell).\n",
    "\n",
    "**Why “unprojected”?** Because $M^{\\alpha_1\\cdots\\alpha_k}_{(\\nu)}$ is defined before applying any frame projector (no contraction with $u^\\alpha$ or $n^\\alpha$); only later do we project to get $J$, $H^\\alpha$, and $L^{\\alpha\\beta}$ (purely spatial, frame-specific moments).\n",
    "\n",
    "\n",
    "**Rank-2 Equation:**  \n",
    "$$\n",
    "M^{\\alpha\\beta} \\;=\\; J\\,u^\\alpha u^\\beta \\;+\\; H^\\alpha u^\\beta \\;+\\; H^\\beta u^\\alpha \\;+\\; L^{\\alpha\\beta}.\n",
    "$$\n",
    "\n",
    "**What each piece is:**  \n",
    "- $J\\,u^\\alpha u^\\beta$: energy-at-rest part (isotropic in the fluid frame).  \n",
    "- $H^\\alpha u^\\beta + H^\\beta u^\\alpha$: energy-flow pieces mixing time ($u^\\beta$) and space ($H^\\alpha$).  \n",
    "- $L^{\\alpha\\beta}$: spatial stresses/pressures in the fluid frame.\n",
    "\n",
    "**Why this exact form:** it’s the most general symmetric rank-2 tensor built from $u^\\alpha$ plus spatial parts orthogonal to $u^\\alpha$—the radiation analogue of a (possibly anisotropic) fluid.\n",
    "\n"
   ]
  },
  {
   "cell_type": "markdown",
   "id": "31d93c25",
   "metadata": {},
   "source": [
    "## 4. The covariant moment equation (fixed $\\nu$):\n",
    "\n",
    "**Master equation (schematic $k$-th moment):**  \n",
    "$$\n",
    "\\nabla_\\beta M^{A_k\\beta}_{(\\nu)}\\;-\\;\\partial_\\nu\\!\\Big[\\nu\\,M^{A_k\\beta\\gamma}_{(\\nu)} \\nabla_\\gamma u_\\beta\\Big]\\;-\\;(k-1)\\,M^{A_k\\beta\\gamma}_{(\\nu)}\\nabla_\\gamma u_\\beta \\;=\\; S^{A_k}_{(\\nu)}.\n",
    "$$\n",
    "where\n",
    "$$\n",
    "A_k \\equiv \\alpha_1\\alpha_2\\cdots\\alpha_k,\\qquad\n",
    "M^{A_k}_{(\\nu)} \\equiv M^{\\alpha_1\\cdots\\alpha_k}_{(\\nu)}.\n",
    "$$\n",
    "\n",
    "**Term-by-term:**  \n",
    "- $\\boxed{\\nabla_\\beta M^{A_k\\beta}_{(\\nu)}}$ — **spacetime transport** (advection + curvature).  \n",
    "- $\\boxed{-\\partial_\\nu[\\cdots]}$ — **frequency transport**: radiation is **shifted in energy** by fluid acceleration/expansion or gravity.  \n",
    "- $\\boxed{-(k-1)M^{A_k\\beta\\gamma}\\nabla_\\gamma u_\\beta}$ — **work by velocity gradients**: shear/expansion modifies angular structure (think “stirring” the radiation).  \n",
    "- $\\boxed{S^{A_k}_{(\\nu)}}$ — **microphysics**: emission adds, absorption removes, scattering redistributes direction and energy.\n",
    "\n",
    "**Gray limit (frequency integrated):** integrating over $\\nu$ eliminates the explicit $\\partial_\\nu$ term, giving cleaner—but less spectrally resolved—equations.\n"
   ]
  },
  {
   "cell_type": "markdown",
   "id": "1fe657a8",
   "metadata": {},
   "source": [
    "## 5. Energy/flux system via $Q^\\alpha$ and $Q^{\\alpha\\beta}$\n",
    "\n",
    "**Definitions:**  \n",
    "$$\n",
    "Q^\\alpha_{(\\nu)} = J u^\\alpha + H^\\alpha,\\qquad\n",
    "Q^{\\alpha\\beta}_{(\\nu)} = H^\\alpha u^\\beta + L^{\\alpha\\beta}.\n",
    "$$\n",
    "\n",
    "**Why it helps:**  \n",
    "- Projecting the rank-2 equation along $u^\\alpha$ (energy-like) and orthogonal to $u^\\alpha$ (momentum-like) yields a **closed pair** for $J(\\nu)$ and $H^\\alpha(\\nu)$ **once** $L$ (and pieces of $N$) are **provided by a closure**.  \n",
    "- Think of $Q^\\alpha$ as “**total energy current**” in the fluid frame and $Q^{\\alpha\\beta}$ as “**how that current changes with direction and stress**.”\n"
   ]
  },
  {
   "cell_type": "markdown",
   "id": "dc40b74d",
   "metadata": {},
   "source": [
    "## 6. Closures and limits \n",
    "\n",
    "**Diffusion (thick):**  \n",
    "$$\n",
    "L^{\\alpha\\beta} \\approx \\frac13 J\\,h^{\\alpha\\beta} \\quad \\Rightarrow \\quad \\text{isotropic pressure in the fluid frame.}\n",
    "$$\n",
    "\n",
    "**Free streaming (thin):** radiation collapses onto a single direction $\\ell_f^\\alpha$, so  \n",
    "$$\n",
    "H^\\alpha \\approx J\\,\\ell_f^\\alpha, \\qquad\n",
    "L^{\\alpha\\beta} \\approx J\\,\\ell_f^\\alpha \\ell_f^\\beta.\n",
    "$$\n",
    "\n",
    "**M1 closure (concept):** return $P^{ij}$ (or $L^{\\alpha\\beta}$) as a function of $(E,F)$ (or $(J,H)$) via an **Eddington factor** $\\chi$ that depends on the **flux factor** $f = |F|/E$.  \n",
    "- $f\\to 0 \\Rightarrow \\chi\\to 1/3$ (diffusion),  \n",
    "- $f\\to 1 \\Rightarrow \\chi\\to 1$ (streaming).  \n",
    "The exact formula lives later in the paper, but the physics is “**interpolate with causality**.”\n"
   ]
  },
  {
   "cell_type": "markdown",
   "id": "0617c988",
   "metadata": {},
   "source": [
    "## 7. 3+1 (lab-frame) variables \n",
    "\n",
    "**Projections:**  \n",
    "$$\n",
    "E(\\nu)=M^{\\alpha\\beta}n_\\alpha n_\\beta,\\qquad\n",
    "F^i(\\nu)=-M^{\\alpha\\beta}n_\\alpha \\gamma^i{}_\\beta,\\qquad\n",
    "P^{ij}(\\nu)=M^{\\alpha\\beta}\\gamma^i{}_\\alpha \\gamma^j{}_\\beta.\n",
    "$$\n",
    "\n",
    "**Physical reading:**  \n",
    "- $E_\\nu$ — energy density **measured by the lab observer** per frequency.  \n",
    "- $F^i_\\nu$ — energy flux in spatial direction $i$.  \n",
    "- $P^{ij}_\\nu$ — pressure tensor (momentum flux) in lab coordinates.\n",
    "\n",
    "**Why conservation form:** writing the PDEs as \"$\\partial_t(\\text{state vector})+\\nabla\\cdot(\\text{flux})=\\text{sources}$\" enables **finite-volume methods** that conserve $E$ and $F$ up to source/gravity work, crucial for stability and shock-capturing.\n"
   ]
  },
  {
   "cell_type": "markdown",
   "id": "0da21118",
   "metadata": {},
   "source": [
    "## 8. The conservative 3+1 equations \n",
    "\n",
    "**Energy (at fixed $\\nu$):**  \n",
    "$$\n",
    "\\partial_t(\\sqrt{\\gamma}\\,E_\\nu)\n",
    "+\\partial_j\\!\\Big[\\sqrt{\\gamma}\\,(\\alpha F^j_\\nu - \\beta^j E_\\nu)\\Big]\n",
    "+\\partial_\\nu\\!\\Big(\\text{redshift/Doppler term}\\Big)\n",
    "= \\alpha\\sqrt{\\gamma}\\Big[\\underbrace{P^{ij}_\\nu K_{ij}}_{\\text{gravity doing work}}\n",
    "- \\underbrace{F^j_\\nu \\partial_j\\ln\\alpha}_{\\text{grav. redshift}}\n",
    "- \\underbrace{S^\\alpha_\\nu n_\\alpha}_{\\text{matter exchange}}\\Big].\n",
    "$$\n",
    "\n",
    "**Momentum (at fixed $\\nu$):**  \n",
    "$$\n",
    "\\partial_t(\\sqrt{\\gamma}\\,F^i_\\nu)\n",
    "+\\partial_j\\!\\Big[\\sqrt{\\gamma}\\,(\\alpha P^{j}{}_{\\nu}{}^{i} - \\beta^j F^i_\\nu)\\Big]\n",
    "-\\partial_\\nu\\!\\Big(\\text{frequency-coupling term}\\Big)\n",
    "= \\sqrt{\\gamma}\\Big[\\underbrace{-E_\\nu \\partial_i\\alpha}_{\\text{redshift force}}\n",
    "+ \\underbrace{F^k_\\nu \\partial_i\\beta_k}_{\\text{shift (frame) effects}}\n",
    "+ \\underbrace{\\frac{\\alpha}{2}P^{jk}_\\nu \\partial_i\\gamma_{jk}}_{\\text{curvature work}}\n",
    "+ \\underbrace{\\alpha S^\\alpha_\\nu \\gamma^i{}_\\alpha}_{\\text{matter exchange}}\\Big].\n",
    "$$\n",
    "\n",
    "- **Transport:** the divergence terms with $F$ and $P$ move energy/momentum across cell faces.  \n",
    "- **Geometry work:** $K_{ij}$ (bending of slices), $\\partial_i\\gamma_{jk}$ (metric gradients), and lapse/shift gradients embody **gravitational effects** (redshift/focusing/frame dragging).  \n",
    "- **Frequency coupling:** the $\\partial_\\nu(\\cdots)$ terms ensure spectra evolve with motion/gravity (no fixed bins from the radiation’s viewpoint).  \n",
    "- **Sources:** $S^\\alpha$ encodes emission/absorption/scattering and ensures **total** (matter+radiation) $T^{\\alpha\\beta}$ is conserved.\n"
   ]
  },
  {
   "cell_type": "markdown",
   "id": "aede76f1",
   "metadata": {},
   "source": [
    "## 9. Frame reconstruction\n",
    "\n",
    "To compute microphysics you need **fluid-frame** moments $(J,H^\\alpha)$, but numerically you evolve **lab-frame** $(E,F^i,P^{ij})$. Transformations like\n",
    "$$\n",
    "J = E w^2 - 2 w\\, F^k u_k + P^{ij} u_i u_j, \\qquad w=\\alpha u^0\n",
    "$$\n",
    "let you **pull back** to the fluid frame. This is where\n",
    "- your **closure** is usually defined, and\n",
    "- **opacities** and **emissivities** are evaluated (cross-sections make sense in the local fluid rest frame).\n",
    "\n",
    "**Note:** accuracy of these transforms matters; they also couple radiation to hydrodynamics respectfully (no faster-than-light fluxes; causality respected via the closure).\n"
   ]
  },
  {
   "cell_type": "markdown",
   "id": "d619db13",
   "metadata": {},
   "source": [
    "## 10. Physics analogies\n",
    "\n",
    "- **$P^{ij}K_{ij}$:** Like compressing a gas with moving walls—**work done by geometry** on the radiation.  \n",
    "- **$-F^j\\partial_j\\ln\\alpha$:** Radiation climbing out of a gravitational well and losing energy—**gravitational redshift**.  \n",
    "- **$\\partial_\\nu(\\cdots)$ terms:** A conveyor belt in **frequency space** moving quanta to higher/lower $\\nu$ due to acceleration/expansion/gravity—**Doppler/redshift coupling**.  \n",
    "- **$S^\\alpha$:** Chemical reactor terms—**production/destruction/redistribution**; in equilibrium they balance transport and geometry work.\n"
   ]
  },
  {
   "cell_type": "markdown",
   "id": "7f6a54fc",
   "metadata": {},
   "source": [
    "## 11. Limit checks\n",
    "\n",
    "- **Diffusion limit (thick):** with $P^{ij}\\approx \\tfrac13 E\\,\\gamma^{ij}$ and large opacity $\\kappa_\\nu$, one recovers **Fick’s law**  \n",
    "  $$F^i_\\nu \\approx -\\frac{c}{3\\kappa_\\nu}\\,\\partial_i E_\\nu,$$  \n",
    "  leading to a diffusion equation for $E_\\nu$.\n",
    "\n",
    "- **Free-streaming limit (thin):**  \n",
    "  $$P^{ij}_\\nu \\to E_\\nu \\hat{n}^i\\hat{n}^j,\\qquad F^i_\\nu \\to E_\\nu \\hat{n}^i,$$  \n",
    "  giving pure advection along $\\hat{n}$ at speed $c$.\n",
    "\n",
    "- **Static Minkowski check:** set $\\alpha=1,\\ \\beta^i=0,\\ \\gamma_{ij}=\\delta_{ij},\\ K_{ij}=0$—only transport and sources survive.\n"
   ]
  },
  {
   "cell_type": "markdown",
   "id": "de8f4e41",
   "metadata": {},
   "source": [
    "## 12. Numerical implementation \n",
    "\n",
    "- **Hyperbolicity and causality:** With M1-like closures, characteristic speeds stay $\\le c$. This is essential for stable high-resolution shock-capturing (HLL/HLLC-like solvers).  \n",
    "- **Well-balanced geometry terms:** Treat $K_{ij}$, $\\partial_i\\ln\\alpha$, and metric gradients non-naively to avoid spurious heating/cooling.  \n",
    "- **Frequency coupling:** The $\\partial_\\nu$ terms can be stiff if geometry varies rapidly—implicit or semi-implicit updates across groups can help.  \n",
    "- **Source splitting:** Often handled implicitly (especially absorption/emission) to tame stiffness and guarantee positivity of $E_\\nu$.\n"
   ]
  },
  {
   "cell_type": "markdown",
   "id": "4c3b44e5",
   "metadata": {
    "jp-MarkdownHeadingCollapsed": true
   },
   "source": [
    " <!--\n",
    "## 13. Quick checklist for implementing the equations correctly\n",
    "- [ ] Use conservative forms for $(E_\\nu,F^i_\\nu)$ with proper metric factors $\\sqrt{\\gamma}$.\n",
    "- [ ] Reconstruct **fluid-frame** moments to evaluate microphysics and closure.\n",
    "- [ ] Choose a closure with correct limits and causal speeds (e.g., M1 with a vetted Eddington factor).\n",
    "- [ ] Handle $\\partial_\\nu(\\cdots)$ carefully so spectra shift consistently (no artificial energy creation).\n",
    "- [ ] Verify diffusion/free-streaming tests and static spacetime tests.\n",
    "- [ ] Confirm total energy-momentum conservation with matter sources enabled.\n",
    "-->"
   ]
  },
  {
   "cell_type": "markdown",
   "id": "90e91d9c",
   "metadata": {},
   "source": [
    "## 13. Recap \n",
    "\n",
    "- Evolve **two** fields per frequency: $E_\\nu$ and $F^i_\\nu$.  \n",
    "- Get $P^{ij}_\\nu$ from a **closure** driven by the flux factor $f=|F|/E$.  \n",
    "- Geometry ($\\alpha,\\beta,\\gamma_{ij},K_{ij}$) **does work** on radiation (redshift, focusing).  \n",
    "- $\\partial_\\nu(\\cdots)$ shifts energy between frequency bins (Doppler/gravity).  \n",
    "- Sources $S^\\alpha_\\nu$ exchange energy/momentum with matter so that total $T^{\\alpha\\beta}$ is conserved.\n"
   ]
  }
 ],
 "metadata": {
  "kernelspec": {
   "display_name": "Python 3 (ipykernel)",
   "language": "python",
   "name": "python3"
  },
  "language_info": {
   "codemirror_mode": {
    "name": "ipython",
    "version": 3
   },
   "file_extension": ".py",
   "mimetype": "text/x-python",
   "name": "python",
   "nbconvert_exporter": "python",
   "pygments_lexer": "ipython3",
   "version": "3.12.0"
  }
 },
 "nbformat": 4,
 "nbformat_minor": 5
}
